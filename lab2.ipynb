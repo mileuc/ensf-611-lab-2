{
 "cells": [
  {
   "cell_type": "markdown",
   "metadata": {},
   "source": [
    "# Lab2 - Concrete compressive strength regression (35 marks total)\n",
    "Author: Michael Le"
   ]
  },
  {
   "cell_type": "code",
   "execution_count": 1,
   "metadata": {},
   "outputs": [],
   "source": [
    "import numpy as np\n",
    "import pandas as pd\n",
    "import matplotlib.pyplot as plt\n",
    "import seaborn as sns"
   ]
  },
  {
   "cell_type": "markdown",
   "metadata": {},
   "source": [
    "## 0. Function definitions (2 marks)\n",
    "\n",
    "To find the best model, we follow the published article where root-mean squared error (rms) was used as a score function. The rms score function needs to be minimized, because the optimal score is 0, larger values are worse performances\n",
    "\n",
    "In scikit-learn, only *maximization* is implemented. Hence, it is customary to maximize the *negative* rms. scitkit-learn provides a scoring function `neg_root_mean_squared_error`"
   ]
  },
  {
   "cell_type": "code",
   "execution_count": null,
   "metadata": {},
   "outputs": [],
   "source": [
    "from sklearn.model_selection import cross_validate\n",
    "\n",
    "\n",
    "def get_regressor_neg_rms(model, X, y, cv=7):\n",
    "    '''Calculate train and validation score for regressor (model) using cross-validation\n",
    "        \n",
    "        score is negative root mean-squared error (rms)\n",
    "        \n",
    "        model (sklearn classifier): Regressor to train and evaluate\n",
    "        X (numpy.array or pandas.DataFrame): Feature matrix\n",
    "        y (numpy.array or pandas.Series): Target vector\n",
    "        \n",
    "        returns: mean training negative rms, mean validation negative rms\n",
    "    \n",
    "    '''\n",
    "    # Returns a dictionary with the training and testing times for each validation, as well as the training and testing scores\n",
    "    result = cross_validate(model, X, y, cv=cv, return_train_score=True)\n",
    "    df = pd.DataFrame.from_dict(result, orient='columns', dtype=None, columns=None)\n",
    "    print(df)\n",
    "    \n",
    "    #TODO: add function body here\n",
    "    \n",
    "    "
   ]
  },
  {
   "cell_type": "markdown",
   "metadata": {},
   "source": [
    "## 1. Load data (1 mark each for 3 total marks)\n",
    "yellowbrick concrete  \n",
    "https://www.scikit-yb.org/en/latest/api/datasets/concrete.html\n",
    "\n",
    "Load the Dataset object with `load_concrete()` using `return_dataset=True`\n",
    "\n",
    "Print the README of the Dataset object\n"
   ]
  },
  {
   "cell_type": "code",
   "execution_count": 4,
   "metadata": {},
   "outputs": [
    {
     "name": "stdout",
     "output_type": "stream",
     "text": [
      "# Concrete Compressive Strength\n",
      "\n",
      "**Downloaded from the UCI Machine Learning Repository on October 13, 2016.**\n",
      "\n",
      "- Multivariate Data Set\n",
      "- Real Attributes\n",
      "- 1,030 Instances\n",
      "- 9 attributes\n",
      "- Well suited for _regression_ tasks\n",
      "- [https://archive.ics.uci.edu/ml/datasets/Concrete+Compressive+Strength](https://archive.ics.uci.edu/ml/datasets/Concrete+Compressive+Strength)\n",
      "\n",
      "## Abstract\n",
      "\n",
      "Concrete is the most important material in civil engineering. The concrete compressive strength is a highly nonlinear function of age and ingredients.\n",
      "\n",
      "## Description\n",
      "\n",
      "Given are the variable name, variable type, the measurement unit and a brief description. The concrete compressive strength is the regression problem. The order of this listing corresponds to the order of numerals along the rows of the database.\n",
      "\n",
      "## Attributes\n",
      "\n",
      "- cement (kg)\n",
      "- blast furnace slag (kg)\n",
      "- fly ash (kg)\n",
      "- water (kg)\n",
      "- superplasticizer (kg)\n",
      "- coarse aggregate (kg)\n",
      "- fine aggregate (kg)\n",
      "- age (day)\n",
      "- compressive strength (MPa)\n",
      "\n",
      "## Citation\n",
      "\n",
      "Yeh, I-C. \"Modeling of strength of high-performance concrete using artificial neural networks.\" Cement and Concrete research 28.12 (1998): 1797-1808.\n"
     ]
    }
   ],
   "source": [
    "#TODO: load the yellowbrick concrete Dataset object and access the README\n",
    "from yellowbrick.datasets.loaders import load_concrete\n",
    "\n",
    "dataset = load_concrete(return_dataset=True)\n",
    "print(dataset.README)"
   ]
  },
  {
   "cell_type": "markdown",
   "metadata": {},
   "source": [
    "### *Question 1:* What is the target variable name and units in this dataset?"
   ]
  },
  {
   "cell_type": "markdown",
   "metadata": {},
   "source": [
    "*YOUR ANSWER HERE*  \n",
    "The target variable name is \"compressive strength\", which is in units of MPa."
   ]
  },
  {
   "cell_type": "markdown",
   "metadata": {},
   "source": [
    "### 1.1 Prepare the feature matrix and target vector\n",
    "Load the concrete data set into feature matrix `X` and target vector `y`\n",
    "\n",
    "Print dimensions and type of `X`, `y`"
   ]
  },
  {
   "cell_type": "code",
   "execution_count": 14,
   "metadata": {},
   "outputs": [
    {
     "data": {
      "text/html": [
       "<div>\n",
       "<style scoped>\n",
       "    .dataframe tbody tr th:only-of-type {\n",
       "        vertical-align: middle;\n",
       "    }\n",
       "\n",
       "    .dataframe tbody tr th {\n",
       "        vertical-align: top;\n",
       "    }\n",
       "\n",
       "    .dataframe thead th {\n",
       "        text-align: right;\n",
       "    }\n",
       "</style>\n",
       "<table border=\"1\" class=\"dataframe\">\n",
       "  <thead>\n",
       "    <tr style=\"text-align: right;\">\n",
       "      <th></th>\n",
       "      <th>cement</th>\n",
       "      <th>slag</th>\n",
       "      <th>ash</th>\n",
       "      <th>water</th>\n",
       "      <th>splast</th>\n",
       "      <th>coarse</th>\n",
       "      <th>fine</th>\n",
       "      <th>age</th>\n",
       "    </tr>\n",
       "  </thead>\n",
       "  <tbody>\n",
       "    <tr>\n",
       "      <th>0</th>\n",
       "      <td>540.0</td>\n",
       "      <td>0.0</td>\n",
       "      <td>0.0</td>\n",
       "      <td>162.0</td>\n",
       "      <td>2.5</td>\n",
       "      <td>1040.0</td>\n",
       "      <td>676.0</td>\n",
       "      <td>28</td>\n",
       "    </tr>\n",
       "    <tr>\n",
       "      <th>1</th>\n",
       "      <td>540.0</td>\n",
       "      <td>0.0</td>\n",
       "      <td>0.0</td>\n",
       "      <td>162.0</td>\n",
       "      <td>2.5</td>\n",
       "      <td>1055.0</td>\n",
       "      <td>676.0</td>\n",
       "      <td>28</td>\n",
       "    </tr>\n",
       "    <tr>\n",
       "      <th>2</th>\n",
       "      <td>332.5</td>\n",
       "      <td>142.5</td>\n",
       "      <td>0.0</td>\n",
       "      <td>228.0</td>\n",
       "      <td>0.0</td>\n",
       "      <td>932.0</td>\n",
       "      <td>594.0</td>\n",
       "      <td>270</td>\n",
       "    </tr>\n",
       "    <tr>\n",
       "      <th>3</th>\n",
       "      <td>332.5</td>\n",
       "      <td>142.5</td>\n",
       "      <td>0.0</td>\n",
       "      <td>228.0</td>\n",
       "      <td>0.0</td>\n",
       "      <td>932.0</td>\n",
       "      <td>594.0</td>\n",
       "      <td>365</td>\n",
       "    </tr>\n",
       "    <tr>\n",
       "      <th>4</th>\n",
       "      <td>198.6</td>\n",
       "      <td>132.4</td>\n",
       "      <td>0.0</td>\n",
       "      <td>192.0</td>\n",
       "      <td>0.0</td>\n",
       "      <td>978.4</td>\n",
       "      <td>825.5</td>\n",
       "      <td>360</td>\n",
       "    </tr>\n",
       "  </tbody>\n",
       "</table>\n",
       "</div>"
      ],
      "text/plain": [
       "   cement   slag  ash  water  splast  coarse   fine  age\n",
       "0   540.0    0.0  0.0  162.0     2.5  1040.0  676.0   28\n",
       "1   540.0    0.0  0.0  162.0     2.5  1055.0  676.0   28\n",
       "2   332.5  142.5  0.0  228.0     0.0   932.0  594.0  270\n",
       "3   332.5  142.5  0.0  228.0     0.0   932.0  594.0  365\n",
       "4   198.6  132.4  0.0  192.0     0.0   978.4  825.5  360"
      ]
     },
     "execution_count": 14,
     "metadata": {},
     "output_type": "execute_result"
    }
   ],
   "source": [
    "#TODO: Load feature matrix X and target vector y, print shapes\n",
    "from sklearn.model_selection import train_test_split\n",
    "\n",
    "X, y = load_concrete()\n",
    "\n",
    "# X.head()\n",
    "# y.head()\n",
    "print(f\"Shape of X: {X.shape}\")\n",
    "print(f\"Shape of y: {y.shape}\\n\")\n",
    "print(f\"Type of X columns: \\n{X.dtypes}\\n\")\n",
    "print(f\"Type of X: \\n{X.dtypes.dtype}\\n\")\n",
    "print(f\"Type of y: \\n{y.dtypes}\\n\")\n",
    "\n",
    "# We are assuming that the yellowbrick dataset was used in the reference article and that 20% of the data served as the test set\n",
    "# X_train, X_test, y_train, y_test = train_test_split(X, y, train_size=0.80, random_state=956)\n"
   ]
  },
  {
   "cell_type": "markdown",
   "metadata": {},
   "source": [
    "## 2. Inspect the data (1 mark each for 4 total marks)"
   ]
  },
  {
   "cell_type": "markdown",
   "metadata": {},
   "source": [
    "### 2.1 Range of each feature\n",
    "To get an idea if the features are on the same scale, we inspect the range of features\n",
    "\n",
    "Print the minimum and maximum of each feature in `X`"
   ]
  },
  {
   "cell_type": "code",
   "execution_count": 27,
   "metadata": {},
   "outputs": [
    {
     "name": "stdout",
     "output_type": "stream",
     "text": [
      "Feature: cement, Minimum: 102.0, Maximum: 540.0\n",
      "Feature: slag, Minimum: 0.0, Maximum: 359.4\n",
      "Feature: ash, Minimum: 0.0, Maximum: 200.1\n",
      "Feature: water, Minimum: 121.75, Maximum: 247.0\n",
      "Feature: splast, Minimum: 0.0, Maximum: 32.2\n",
      "Feature: coarse, Minimum: 801.0, Maximum: 1145.0\n",
      "Feature: fine, Minimum: 594.0, Maximum: 992.6\n",
      "Feature: age, Minimum: 1.0, Maximum: 365.0\n"
     ]
    }
   ],
   "source": [
    "# TODO: print range (minimum and maximum) of features\n",
    "for feature_name, minimum, maximum in zip(X.columns.values, X.min(), X.max()):\n",
    "    print(f\"Feature: {feature_name}, Minimum: {minimum}, Maximum: {maximum}\")"
   ]
  },
  {
   "cell_type": "markdown",
   "metadata": {},
   "source": [
    "### 2.2 Boxplot of features \n",
    "Using seaborn boxplot, plot all features. This provides a visual view of feature ranges\n",
    "\n",
    "Add y-axis label indicating units, and a title"
   ]
  },
  {
   "cell_type": "code",
   "execution_count": 37,
   "metadata": {},
   "outputs": [
    {
     "data": {
      "image/png": "[encoded data removed]",
      "text/plain": [
       "<Figure size 1600x800 with 1 Axes>"
      ]
     },
     "metadata": {},
     "output_type": "display_data"
    }
   ],
   "source": [
    "#TODO: add boxplot of features\n",
    "plt.figure(figsize=(8, 4), dpi=200)\n",
    "sea_boxplot = sns.boxplot(data=X, orient=\"h\"); # Horizontal boxplot\n",
    "sea_boxplot.set_title(\"Boxplot - Ranges of Features in the Yellowbrick Concrete Dataset\");\n",
    "sea_boxplot.set_ylabel(\"Feature\"); # Add Feature label to y-axis\n",
    "sea_boxplot.set_xlabel(\"Value (all features have units of kg, except for age(days))\"); # Add Value label to x-axis\n"
   ]
  },
  {
   "cell_type": "markdown",
   "metadata": {},
   "source": [
    "### 2.3 Correlation heatmap of features \n",
    "\n",
    "To understand if pairs of features are potentially related, contain similar information, pair-wise cross-correlation can be calculated. Models benefit most from un-correlated features.\n",
    "\n",
    "Using pandas `corr()` method, create the cross-correlations between all features. Plot this cross-correlation object using seaborn `heatmap()` with parameters `vmin=-1, vmax=1, annot=True, cmap='BrBG'`. Add a title.\n",
    "\n",
    "Pandas `corr()` calculates [Pearson correlation ](https://en.wikipedia.org/wiki/Pearson_correlation_coefficient) :\n",
    ">  It has a value between +1 and −1. A value of +1 is total positive linear correlation, 0 is no linear correlation, and −1 is total negative linear correlation."
   ]
  },
  {
   "cell_type": "code",
   "execution_count": null,
   "metadata": {},
   "outputs": [],
   "source": [
    "# TODO: add pairwise cross-correlation heatmap of features\n"
   ]
  },
  {
   "cell_type": "markdown",
   "metadata": {},
   "source": [
    "### 2.4 Histogram of target variable \n",
    "\n",
    "To understand if all target values are equally represented in the data, we analyze how many samples of each target value we have available. The histogram of the target vector can visualize this distribution.\n",
    "\n",
    "Using seaborn `displot()`, plot the histogram of the target vector. Add a title."
   ]
  },
  {
   "cell_type": "code",
   "execution_count": null,
   "metadata": {},
   "outputs": [],
   "source": [
    "#TODO: Add histogram of targect vector\n"
   ]
  },
  {
   "cell_type": "markdown",
   "metadata": {},
   "source": [
    "## 3. Create training and test sets (1 mark)\n",
    "\n",
    "Using scikit-learn `train_test_split()` with parameters `random_state=37`, `test_size=0.2`, split `X` and `y` into training and test sets"
   ]
  },
  {
   "cell_type": "code",
   "execution_count": null,
   "metadata": {},
   "outputs": [],
   "source": [
    "from sklearn.model_selection import train_test_split"
   ]
  },
  {
   "cell_type": "code",
   "execution_count": null,
   "metadata": {},
   "outputs": [],
   "source": [
    "# TODO: train-test split\n"
   ]
  },
  {
   "cell_type": "markdown",
   "metadata": {},
   "source": [
    "## 4. Compare models using cross-validation (3 marks)\n",
    "\n",
    "Create a list containing a `LinearRegression()`, `RandomForestRegressor(random_state=64)` and `GradientBoostingRegressor(random_state=79)` objects.\n",
    "\n",
    "Iterate this list and:\n",
    "- using `X_train` and `y_train`\n",
    "- compute the negative root mean-squared error using the `get_regressor_neg_rms()` function\n",
    "- and print the training and validation scores with **2 decimal places**\n",
    "- Use 7-fold cross-validation"
   ]
  },
  {
   "cell_type": "code",
   "execution_count": null,
   "metadata": {},
   "outputs": [],
   "source": [
    "from sklearn.linear_model import LinearRegression\n",
    "from sklearn.ensemble import RandomForestRegressor, GradientBoostingRegressor"
   ]
  },
  {
   "cell_type": "code",
   "execution_count": null,
   "metadata": {},
   "outputs": [],
   "source": [
    "#TODO: Calling get_regressor_neg_rms() for each model\n"
   ]
  },
  {
   "cell_type": "markdown",
   "metadata": {},
   "source": [
    "### *Question 2:* For each of the three models, state if models are potentially over- or underfitting and why (3 marks)"
   ]
  },
  {
   "cell_type": "markdown",
   "metadata": {},
   "source": [
    "*YOUR ANSWER HERE*  \n",
    "\n",
    "\n"
   ]
  },
  {
   "cell_type": "markdown",
   "metadata": {},
   "source": [
    "## 5. Find a better model (3 marks)\n",
    "\n",
    "Use the `RandomForestRegressor(random_state=64)` and find the best combination of `max_depth` from the list of `[10, 15, 20]`, and `n_estimators` from the list of `[100, 200, 400]`\n",
    "\n",
    "Use nested for-loops to iterate these two lists:\n",
    "- using `X_train` and `y_train`\n",
    "- compute the negative root mean-squared error of the corresponding `RandomForestRegressor(random_state=64)` using the `get_regressor_neg_rms()` function \n",
    "- and print the training and validation scores with **2 decimal places**\n",
    "- Use 7-fold cross-validation\n",
    "\n",
    "Report the best validation score and the corresponding model\n",
    "\n",
    "Note: We expect that more trees (larger `n_estimators`) yield better model performance"
   ]
  },
  {
   "cell_type": "code",
   "execution_count": null,
   "metadata": {},
   "outputs": [],
   "source": [
    "#TODO: Using nested for loops iterate parameter combinations and print results\n"
   ]
  },
  {
   "cell_type": "markdown",
   "metadata": {},
   "source": [
    "### *Question 3:* Which combination of `max_depth` and `n_estimators` produced the best validation score? Report both training and validation scores here (2 marks)"
   ]
  },
  {
   "cell_type": "markdown",
   "metadata": {},
   "source": [
    "*YOUR ANSWER HERE*  \n"
   ]
  },
  {
   "cell_type": "markdown",
   "metadata": {},
   "source": [
    "## 6. Retrain best model (2 marks)\n",
    "\n",
    "Create a `RandomForestRegressor(random_state=64)` with the best pair of `max_depth` and `n_estimators`, and retrain this model on all training data."
   ]
  },
  {
   "cell_type": "code",
   "execution_count": null,
   "metadata": {},
   "outputs": [],
   "source": [
    "#TODO: retrain the best estimator\n"
   ]
  },
  {
   "cell_type": "markdown",
   "metadata": {},
   "source": [
    "## 7. Evaluate best model on training and test data\n",
    "### 7.1 Root mean-squared error and $R^2$ (3 marks)\n",
    "\n",
    "For the retrained best estimator, print the root mean-squared error (**2 decimal places**) and R-squared (**3 decimal places**) for training and test sets."
   ]
  },
  {
   "cell_type": "code",
   "execution_count": null,
   "metadata": {},
   "outputs": [],
   "source": [
    "from sklearn.metrics import mean_squared_error, r2_score"
   ]
  },
  {
   "cell_type": "code",
   "execution_count": null,
   "metadata": {},
   "outputs": [],
   "source": [
    "# TODO: print rms and r-squared for training and test set\n",
    "\n",
    "\n"
   ]
  },
  {
   "cell_type": "markdown",
   "metadata": {},
   "source": [
    "### *Question 4:* How does this test score compare to the polynomial regression and neural network reported in the article? Do we outperform the reported models? Include scores in your answer. (2 marks)"
   ]
  },
  {
   "cell_type": "markdown",
   "metadata": {},
   "source": [
    "*YOUR ANSWER HERE*\n"
   ]
  },
  {
   "cell_type": "markdown",
   "metadata": {},
   "source": [
    "### 7.2 Predicted vs actual strength plot (1 mark)\n",
    "Using a scatterplot, show predicted strength on the x axis and actual strength on the y axis with data from the test set. With this plot, we can see where we make errors.\n",
    "\n",
    "Add a line of unity (diagonal with slope 1 and offset 0). Ideally, all points would be on this line. We look for points being distributed equally around the line of unity.\n",
    "\n",
    "Add x-axis, y-axis labels including units, and a title.\n"
   ]
  },
  {
   "cell_type": "code",
   "execution_count": null,
   "metadata": {},
   "outputs": [],
   "source": [
    "#TODO: predicted-actual plot\n"
   ]
  },
  {
   "cell_type": "markdown",
   "metadata": {},
   "source": [
    "### 7.3 Residual plot (1 mark)\n",
    "Using a scatterplot, show predicted strength on the x axis and the *difference* between actual and predicted strength on the y axis with data from the test set. This is an alternative way to see where errors are made.\n",
    "\n",
    "We look for residuals being distributed equally around the zero horizontal line.\n",
    "\n",
    "Add x-axis, y-axis labels including units, and a title.\n",
    "\n"
   ]
  },
  {
   "cell_type": "code",
   "execution_count": null,
   "metadata": {},
   "outputs": [],
   "source": [
    "# TODO: Residual plot\n"
   ]
  },
  {
   "cell_type": "markdown",
   "metadata": {},
   "source": [
    "## 8. Conclusion (3 marks)\n",
    "\n",
    "In conclusion, comment on the following items:\n",
    "1. Did we find a model that outperforms the polynomial regression reported in the reference article? Explain.\n",
    "1. Did we find a model that outperforms the neural network reported in the reference article? Explain.\n",
    "1. What were our assumption about the dataset and train/test split? How do these assumptions affect your conclusions?\n"
   ]
  },
  {
   "cell_type": "markdown",
   "metadata": {},
   "source": [
    "*YOUR ANSWER HERE*\n"
   ]
  },
  {
   "cell_type": "markdown",
   "metadata": {},
   "source": [
    "## 9. Reflection (2 marks)\n",
    "\n"
   ]
  },
  {
   "cell_type": "markdown",
   "metadata": {},
   "source": [
    "Include a sentence or two about:\n",
    "- what you liked or disliked,\n",
    "- found interesting, confusing, challangeing, motivating while working on this assignment.\n",
    "\n",
    "*ADD YOUR THOUGHTS HERE*"
   ]
  },
  {
   "cell_type": "markdown",
   "metadata": {},
   "source": [
    "# Appendix-A: Bonus - use grid search to find the best model parameters\n",
    "### (5 potential bonus marks)"
   ]
  },
  {
   "cell_type": "markdown",
   "metadata": {},
   "source": [
    "## A-0. Workflow overview"
   ]
  },
  {
   "cell_type": "code",
   "execution_count": null,
   "metadata": {},
   "outputs": [],
   "source": [
    "import mglearn\n",
    "mglearn.plots.plot_grid_search_overview()"
   ]
  },
  {
   "cell_type": "markdown",
   "metadata": {},
   "source": [
    "## A-1. Hyperparameter tuning using grid search (2 marks)\n",
    "\n",
    "The inital cross-validation above showed that both DecisionTree based models might have merit. Next, the hyperparameters are tuned using grid search."
   ]
  },
  {
   "cell_type": "markdown",
   "metadata": {},
   "source": [
    "### A-1.1 Grid search for RandomForestRegressor\n",
    "\n",
    "Perform grid search using `GridSearchCV` for the `RandomForestRegressor(random_state=64)`.\n",
    "\n",
    "Grid search to use 7-fold cross-validation, and `neg_root_mean_squared_error` as the scoring function.\n",
    "\n",
    "Use the following hyperparameters and values:\n",
    "- `'n_estimators': [100, 200, 400]`\n",
    "- `'max_depth': [ 15, 17, 19, 21]`\n",
    "- `'max_features': ['auto', 'log2', None]`\n"
   ]
  },
  {
   "cell_type": "code",
   "execution_count": null,
   "metadata": {},
   "outputs": [],
   "source": [
    "# TODO: Setup grid search for RandomForestRegressor(random_state=64)\n"
   ]
  },
  {
   "cell_type": "code",
   "execution_count": null,
   "metadata": {},
   "outputs": [],
   "source": [
    "# TODO: perform the grid search by calling fit()\n"
   ]
  },
  {
   "cell_type": "code",
   "execution_count": null,
   "metadata": {},
   "outputs": [],
   "source": [
    "# TODO: Print the best parameters\n"
   ]
  },
  {
   "cell_type": "code",
   "execution_count": null,
   "metadata": {},
   "outputs": [],
   "source": [
    "# TODO: Print the best score\n"
   ]
  },
  {
   "cell_type": "markdown",
   "metadata": {},
   "source": [
    "### A-1.2 Grid search for gradient boosted tree\n",
    "\n",
    "Perform grid search using `GridSearchCV` for the `GradientBoostingRegressor(random_state=79)`.\n",
    "\n",
    "Grid search to use 7-fold cross-validation, and `neg_root_mean_squared_error` as the scoring function.\n",
    "\n",
    "Use the following hyperparameters and values:\n",
    "- `'n_estimators': [100, 200, 500]`\n",
    "- `'max_depth': [1, 3, 5, 7]`\n",
    "- `'learning_rate': [0.01, 0.1, 1.0]`"
   ]
  },
  {
   "cell_type": "code",
   "execution_count": null,
   "metadata": {},
   "outputs": [],
   "source": [
    "# TODO: Setup grid search for GradientBoostingRegressor(random_state=79)\n"
   ]
  },
  {
   "cell_type": "code",
   "execution_count": null,
   "metadata": {},
   "outputs": [],
   "source": [
    "# TODO: perform the grid search by calling fit()\n"
   ]
  },
  {
   "cell_type": "code",
   "execution_count": null,
   "metadata": {},
   "outputs": [],
   "source": [
    "# TODO: Print the best parameters\n"
   ]
  },
  {
   "cell_type": "code",
   "execution_count": null,
   "metadata": {},
   "outputs": [],
   "source": [
    "# TODO: Print the best score\n"
   ]
  },
  {
   "cell_type": "markdown",
   "metadata": {},
   "source": [
    "### *Question A-1:* Which of the two models produces the best score? What is the best score?"
   ]
  },
  {
   "cell_type": "markdown",
   "metadata": {},
   "source": [
    "*YOUR ANSWER HERE*\n"
   ]
  },
  {
   "cell_type": "markdown",
   "metadata": {},
   "source": [
    "## A-2. Retrain best model (1 mark)\n",
    "\n",
    "Get the best estimator from the two grid searches above and retrain this model on all training data."
   ]
  },
  {
   "cell_type": "code",
   "execution_count": null,
   "metadata": {},
   "outputs": [],
   "source": [
    "#TODO: retrain the best estimator\n",
    "\n"
   ]
  },
  {
   "cell_type": "markdown",
   "metadata": {},
   "source": [
    "## A-3. Model evaluation and conclusion (1 mark)\n",
    "\n",
    "Repeat steps in Section 7 above for the best model.\n",
    "\n",
    "Revisit your Question 4."
   ]
  },
  {
   "cell_type": "code",
   "execution_count": null,
   "metadata": {},
   "outputs": [],
   "source": [
    "#TODO: train and test set scores of retrained best model\n"
   ]
  },
  {
   "cell_type": "code",
   "execution_count": null,
   "metadata": {},
   "outputs": [],
   "source": [
    "#TODO: predicted-actual plot\n"
   ]
  },
  {
   "cell_type": "code",
   "execution_count": null,
   "metadata": {},
   "outputs": [],
   "source": [
    "# TODO: Residual plot\n"
   ]
  },
  {
   "cell_type": "markdown",
   "metadata": {
    "tags": []
   },
   "source": [
    "### *Question A-4:* How does this test score compare to the polynomial regression and neural network reported in the article? Do we outperform the reported models? (1 mark)"
   ]
  },
  {
   "cell_type": "markdown",
   "metadata": {},
   "source": [
    "*YOUR ANSWER HERE*\n"
   ]
  }
 ],
 "metadata": {
  "kernelspec": {
   "display_name": "Python 3",
   "language": "python",
   "name": "python3"
  },
  "language_info": {
   "codemirror_mode": {
    "name": "ipython",
    "version": 3
   },
   "file_extension": ".py",
   "mimetype": "text/x-python",
   "name": "python",
   "nbconvert_exporter": "python",
   "pygments_lexer": "ipython3",
   "version": "3.7.6"
  }
 },
 "nbformat": 4,
 "nbformat_minor": 4
}
